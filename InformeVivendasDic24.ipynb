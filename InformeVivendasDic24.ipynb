{
  "nbformat": 4,
  "nbformat_minor": 0,
  "metadata": {
    "colab": {
      "provenance": []
    },
    "kernelspec": {
      "name": "python3",
      "display_name": "Python 3"
    },
    "language_info": {
      "name": "python"
    }
  },
  "cells": [
    {
      "cell_type": "markdown",
      "source": [
        "**Analisis de datos: Precios de viviendas y locales para la venta**\n"
      ],
      "metadata": {
        "id": "NKO30IZVnlBG"
      }
    },
    {
      "cell_type": "markdown",
      "source": [
        "**1. Procesamiento para la importacion del CVS**"
      ],
      "metadata": {
        "id": "xjeoncBZoYYV"
      }
    },
    {
      "cell_type": "code",
      "source": [
        "import pandas as pd"
      ],
      "metadata": {
        "id": "dJPFWkafonFp"
      },
      "execution_count": 1,
      "outputs": []
    },
    {
      "cell_type": "code",
      "source": [
        "from google.colab import files\n",
        "uploaded = files.upload()"
      ],
      "metadata": {
        "colab": {
          "base_uri": "https://localhost:8080/",
          "height": 73
        },
        "id": "STrr40LQsqdK",
        "outputId": "7514ea19-c848-41d7-b81e-8221d6a40662"
      },
      "execution_count": 7,
      "outputs": [
        {
          "output_type": "display_data",
          "data": {
            "text/plain": [
              "<IPython.core.display.HTML object>"
            ],
            "text/html": [
              "\n",
              "     <input type=\"file\" id=\"files-b8756bf2-5dc1-425c-86df-23f20dbd2b31\" name=\"files[]\" multiple disabled\n",
              "        style=\"border:none\" />\n",
              "     <output id=\"result-b8756bf2-5dc1-425c-86df-23f20dbd2b31\">\n",
              "      Upload widget is only available when the cell has been executed in the\n",
              "      current browser session. Please rerun this cell to enable.\n",
              "      </output>\n",
              "      <script>// Copyright 2017 Google LLC\n",
              "//\n",
              "// Licensed under the Apache License, Version 2.0 (the \"License\");\n",
              "// you may not use this file except in compliance with the License.\n",
              "// You may obtain a copy of the License at\n",
              "//\n",
              "//      http://www.apache.org/licenses/LICENSE-2.0\n",
              "//\n",
              "// Unless required by applicable law or agreed to in writing, software\n",
              "// distributed under the License is distributed on an \"AS IS\" BASIS,\n",
              "// WITHOUT WARRANTIES OR CONDITIONS OF ANY KIND, either express or implied.\n",
              "// See the License for the specific language governing permissions and\n",
              "// limitations under the License.\n",
              "\n",
              "/**\n",
              " * @fileoverview Helpers for google.colab Python module.\n",
              " */\n",
              "(function(scope) {\n",
              "function span(text, styleAttributes = {}) {\n",
              "  const element = document.createElement('span');\n",
              "  element.textContent = text;\n",
              "  for (const key of Object.keys(styleAttributes)) {\n",
              "    element.style[key] = styleAttributes[key];\n",
              "  }\n",
              "  return element;\n",
              "}\n",
              "\n",
              "// Max number of bytes which will be uploaded at a time.\n",
              "const MAX_PAYLOAD_SIZE = 100 * 1024;\n",
              "\n",
              "function _uploadFiles(inputId, outputId) {\n",
              "  const steps = uploadFilesStep(inputId, outputId);\n",
              "  const outputElement = document.getElementById(outputId);\n",
              "  // Cache steps on the outputElement to make it available for the next call\n",
              "  // to uploadFilesContinue from Python.\n",
              "  outputElement.steps = steps;\n",
              "\n",
              "  return _uploadFilesContinue(outputId);\n",
              "}\n",
              "\n",
              "// This is roughly an async generator (not supported in the browser yet),\n",
              "// where there are multiple asynchronous steps and the Python side is going\n",
              "// to poll for completion of each step.\n",
              "// This uses a Promise to block the python side on completion of each step,\n",
              "// then passes the result of the previous step as the input to the next step.\n",
              "function _uploadFilesContinue(outputId) {\n",
              "  const outputElement = document.getElementById(outputId);\n",
              "  const steps = outputElement.steps;\n",
              "\n",
              "  const next = steps.next(outputElement.lastPromiseValue);\n",
              "  return Promise.resolve(next.value.promise).then((value) => {\n",
              "    // Cache the last promise value to make it available to the next\n",
              "    // step of the generator.\n",
              "    outputElement.lastPromiseValue = value;\n",
              "    return next.value.response;\n",
              "  });\n",
              "}\n",
              "\n",
              "/**\n",
              " * Generator function which is called between each async step of the upload\n",
              " * process.\n",
              " * @param {string} inputId Element ID of the input file picker element.\n",
              " * @param {string} outputId Element ID of the output display.\n",
              " * @return {!Iterable<!Object>} Iterable of next steps.\n",
              " */\n",
              "function* uploadFilesStep(inputId, outputId) {\n",
              "  const inputElement = document.getElementById(inputId);\n",
              "  inputElement.disabled = false;\n",
              "\n",
              "  const outputElement = document.getElementById(outputId);\n",
              "  outputElement.innerHTML = '';\n",
              "\n",
              "  const pickedPromise = new Promise((resolve) => {\n",
              "    inputElement.addEventListener('change', (e) => {\n",
              "      resolve(e.target.files);\n",
              "    });\n",
              "  });\n",
              "\n",
              "  const cancel = document.createElement('button');\n",
              "  inputElement.parentElement.appendChild(cancel);\n",
              "  cancel.textContent = 'Cancel upload';\n",
              "  const cancelPromise = new Promise((resolve) => {\n",
              "    cancel.onclick = () => {\n",
              "      resolve(null);\n",
              "    };\n",
              "  });\n",
              "\n",
              "  // Wait for the user to pick the files.\n",
              "  const files = yield {\n",
              "    promise: Promise.race([pickedPromise, cancelPromise]),\n",
              "    response: {\n",
              "      action: 'starting',\n",
              "    }\n",
              "  };\n",
              "\n",
              "  cancel.remove();\n",
              "\n",
              "  // Disable the input element since further picks are not allowed.\n",
              "  inputElement.disabled = true;\n",
              "\n",
              "  if (!files) {\n",
              "    return {\n",
              "      response: {\n",
              "        action: 'complete',\n",
              "      }\n",
              "    };\n",
              "  }\n",
              "\n",
              "  for (const file of files) {\n",
              "    const li = document.createElement('li');\n",
              "    li.append(span(file.name, {fontWeight: 'bold'}));\n",
              "    li.append(span(\n",
              "        `(${file.type || 'n/a'}) - ${file.size} bytes, ` +\n",
              "        `last modified: ${\n",
              "            file.lastModifiedDate ? file.lastModifiedDate.toLocaleDateString() :\n",
              "                                    'n/a'} - `));\n",
              "    const percent = span('0% done');\n",
              "    li.appendChild(percent);\n",
              "\n",
              "    outputElement.appendChild(li);\n",
              "\n",
              "    const fileDataPromise = new Promise((resolve) => {\n",
              "      const reader = new FileReader();\n",
              "      reader.onload = (e) => {\n",
              "        resolve(e.target.result);\n",
              "      };\n",
              "      reader.readAsArrayBuffer(file);\n",
              "    });\n",
              "    // Wait for the data to be ready.\n",
              "    let fileData = yield {\n",
              "      promise: fileDataPromise,\n",
              "      response: {\n",
              "        action: 'continue',\n",
              "      }\n",
              "    };\n",
              "\n",
              "    // Use a chunked sending to avoid message size limits. See b/62115660.\n",
              "    let position = 0;\n",
              "    do {\n",
              "      const length = Math.min(fileData.byteLength - position, MAX_PAYLOAD_SIZE);\n",
              "      const chunk = new Uint8Array(fileData, position, length);\n",
              "      position += length;\n",
              "\n",
              "      const base64 = btoa(String.fromCharCode.apply(null, chunk));\n",
              "      yield {\n",
              "        response: {\n",
              "          action: 'append',\n",
              "          file: file.name,\n",
              "          data: base64,\n",
              "        },\n",
              "      };\n",
              "\n",
              "      let percentDone = fileData.byteLength === 0 ?\n",
              "          100 :\n",
              "          Math.round((position / fileData.byteLength) * 100);\n",
              "      percent.textContent = `${percentDone}% done`;\n",
              "\n",
              "    } while (position < fileData.byteLength);\n",
              "  }\n",
              "\n",
              "  // All done.\n",
              "  yield {\n",
              "    response: {\n",
              "      action: 'complete',\n",
              "    }\n",
              "  };\n",
              "}\n",
              "\n",
              "scope.google = scope.google || {};\n",
              "scope.google.colab = scope.google.colab || {};\n",
              "scope.google.colab._files = {\n",
              "  _uploadFiles,\n",
              "  _uploadFilesContinue,\n",
              "};\n",
              "})(self);\n",
              "</script> "
            ]
          },
          "metadata": {}
        },
        {
          "output_type": "stream",
          "name": "stdout",
          "text": [
            "Saving Data_Caso_Propuesto.csv to Data_Caso_Propuesto.csv\n"
          ]
        }
      ]
    },
    {
      "cell_type": "code",
      "source": [
        "#Leemos el archivo csv y creamos un dataFrame\n",
        "df = pd.read_csv('Data_Caso_Propuesto.csv')\n",
        "\n",
        "#Leemos las 5 primeras filas\n",
        "df.head()"
      ],
      "metadata": {
        "colab": {
          "base_uri": "https://localhost:8080/",
          "height": 521
        },
        "id": "xc-z-72Ayo_o",
        "outputId": "dbbd6b13-6467-4f49-db89-e1cc91a3e0ec"
      },
      "execution_count": 8,
      "outputs": [
        {
          "output_type": "execute_result",
          "data": {
            "text/plain": [
              "   Codigo    Ciudad     Departamento             Barrio  \\\n",
              "0   17180    BOGOTA     CUNDINAMARCA                NaN   \n",
              "1   19292    BOGOTA     CUNDINAMARCA                NaN   \n",
              "2   19292    BOGOTA     CUNDINAMARCA                NaN   \n",
              "3    2575  SOGAMOSO           BOYACÁ             CENTRO   \n",
              "4   11409      BUGA  VALLE DEL CAUCA  VEREDA CHAMBIMBAL   \n",
              "\n",
              "                                           Direccion  Area Terreno  \\\n",
              "0                          AV CR 7 NO. 166 - 51 LT B          0.00   \n",
              "1                                  CL 72 No. 12 - 77          0.00   \n",
              "2                                  CL 72 No. 12 - 77          0.00   \n",
              "3  CRA. 10 #11- 78/80 Ó CL 12 # 9 - 77/85 Ó CALLE...       1655.08   \n",
              "4  LT A1-A24 B1-B79 C1-C51 D1-D9 STA ROSA LT1-46 ...    3217197.00   \n",
              "\n",
              "   Area Construida            Detalle Disponibilidad    Estrato        Precio  \\\n",
              "0              0.0   COMERCIALIZABLE CON RESTRICCION       TRES  2.958081e+10   \n",
              "1              0.0                   COMERCIALIZABLE  COMERCIAL  1.646059e+10   \n",
              "2              0.0  COMERCIALIZABLE VENTA ANTICIPADA  COMERCIAL  1.646059e+10   \n",
              "3           7269.0   COMERCIALIZABLE CON RESTRICCION     CUATRO  1.376828e+10   \n",
              "4          22724.0           COMERCIALIZABLE FIDUCIA      RURAL  4.523379e+10   \n",
              "\n",
              "  Tipo de Inmueble                                  Datos Adicionales  \n",
              "0   LOTE COMERCIAL  ESTE INMUEBLE SE COMERCIALIZARÁ A TRAVES DE SU...  \n",
              "1         EDIFICIO                                                NaN  \n",
              "2         EDIFICIO                                                NaN  \n",
              "3          CLINICA  ESTE INMUEBLE SE COMERCIALIZARÁ A TRAVÉS DE SU...  \n",
              "4       LOTE MIXTO                                                NaN  "
            ],
            "text/html": [
              "\n",
              "  <div id=\"df-515768b3-72f6-4dbe-9030-77e66cec0ed5\" class=\"colab-df-container\">\n",
              "    <div>\n",
              "<style scoped>\n",
              "    .dataframe tbody tr th:only-of-type {\n",
              "        vertical-align: middle;\n",
              "    }\n",
              "\n",
              "    .dataframe tbody tr th {\n",
              "        vertical-align: top;\n",
              "    }\n",
              "\n",
              "    .dataframe thead th {\n",
              "        text-align: right;\n",
              "    }\n",
              "</style>\n",
              "<table border=\"1\" class=\"dataframe\">\n",
              "  <thead>\n",
              "    <tr style=\"text-align: right;\">\n",
              "      <th></th>\n",
              "      <th>Codigo</th>\n",
              "      <th>Ciudad</th>\n",
              "      <th>Departamento</th>\n",
              "      <th>Barrio</th>\n",
              "      <th>Direccion</th>\n",
              "      <th>Area Terreno</th>\n",
              "      <th>Area Construida</th>\n",
              "      <th>Detalle Disponibilidad</th>\n",
              "      <th>Estrato</th>\n",
              "      <th>Precio</th>\n",
              "      <th>Tipo de Inmueble</th>\n",
              "      <th>Datos Adicionales</th>\n",
              "    </tr>\n",
              "  </thead>\n",
              "  <tbody>\n",
              "    <tr>\n",
              "      <th>0</th>\n",
              "      <td>17180</td>\n",
              "      <td>BOGOTA</td>\n",
              "      <td>CUNDINAMARCA</td>\n",
              "      <td>NaN</td>\n",
              "      <td>AV CR 7 NO. 166 - 51 LT B</td>\n",
              "      <td>0.00</td>\n",
              "      <td>0.0</td>\n",
              "      <td>COMERCIALIZABLE CON RESTRICCION</td>\n",
              "      <td>TRES</td>\n",
              "      <td>2.958081e+10</td>\n",
              "      <td>LOTE COMERCIAL</td>\n",
              "      <td>ESTE INMUEBLE SE COMERCIALIZARÁ A TRAVES DE SU...</td>\n",
              "    </tr>\n",
              "    <tr>\n",
              "      <th>1</th>\n",
              "      <td>19292</td>\n",
              "      <td>BOGOTA</td>\n",
              "      <td>CUNDINAMARCA</td>\n",
              "      <td>NaN</td>\n",
              "      <td>CL 72 No. 12 - 77</td>\n",
              "      <td>0.00</td>\n",
              "      <td>0.0</td>\n",
              "      <td>COMERCIALIZABLE</td>\n",
              "      <td>COMERCIAL</td>\n",
              "      <td>1.646059e+10</td>\n",
              "      <td>EDIFICIO</td>\n",
              "      <td>NaN</td>\n",
              "    </tr>\n",
              "    <tr>\n",
              "      <th>2</th>\n",
              "      <td>19292</td>\n",
              "      <td>BOGOTA</td>\n",
              "      <td>CUNDINAMARCA</td>\n",
              "      <td>NaN</td>\n",
              "      <td>CL 72 No. 12 - 77</td>\n",
              "      <td>0.00</td>\n",
              "      <td>0.0</td>\n",
              "      <td>COMERCIALIZABLE VENTA ANTICIPADA</td>\n",
              "      <td>COMERCIAL</td>\n",
              "      <td>1.646059e+10</td>\n",
              "      <td>EDIFICIO</td>\n",
              "      <td>NaN</td>\n",
              "    </tr>\n",
              "    <tr>\n",
              "      <th>3</th>\n",
              "      <td>2575</td>\n",
              "      <td>SOGAMOSO</td>\n",
              "      <td>BOYACÁ</td>\n",
              "      <td>CENTRO</td>\n",
              "      <td>CRA. 10 #11- 78/80 Ó CL 12 # 9 - 77/85 Ó CALLE...</td>\n",
              "      <td>1655.08</td>\n",
              "      <td>7269.0</td>\n",
              "      <td>COMERCIALIZABLE CON RESTRICCION</td>\n",
              "      <td>CUATRO</td>\n",
              "      <td>1.376828e+10</td>\n",
              "      <td>CLINICA</td>\n",
              "      <td>ESTE INMUEBLE SE COMERCIALIZARÁ A TRAVÉS DE SU...</td>\n",
              "    </tr>\n",
              "    <tr>\n",
              "      <th>4</th>\n",
              "      <td>11409</td>\n",
              "      <td>BUGA</td>\n",
              "      <td>VALLE DEL CAUCA</td>\n",
              "      <td>VEREDA CHAMBIMBAL</td>\n",
              "      <td>LT A1-A24 B1-B79 C1-C51 D1-D9 STA ROSA LT1-46 ...</td>\n",
              "      <td>3217197.00</td>\n",
              "      <td>22724.0</td>\n",
              "      <td>COMERCIALIZABLE FIDUCIA</td>\n",
              "      <td>RURAL</td>\n",
              "      <td>4.523379e+10</td>\n",
              "      <td>LOTE MIXTO</td>\n",
              "      <td>NaN</td>\n",
              "    </tr>\n",
              "  </tbody>\n",
              "</table>\n",
              "</div>\n",
              "    <div class=\"colab-df-buttons\">\n",
              "\n",
              "  <div class=\"colab-df-container\">\n",
              "    <button class=\"colab-df-convert\" onclick=\"convertToInteractive('df-515768b3-72f6-4dbe-9030-77e66cec0ed5')\"\n",
              "            title=\"Convert this dataframe to an interactive table.\"\n",
              "            style=\"display:none;\">\n",
              "\n",
              "  <svg xmlns=\"http://www.w3.org/2000/svg\" height=\"24px\" viewBox=\"0 -960 960 960\">\n",
              "    <path d=\"M120-120v-720h720v720H120Zm60-500h600v-160H180v160Zm220 220h160v-160H400v160Zm0 220h160v-160H400v160ZM180-400h160v-160H180v160Zm440 0h160v-160H620v160ZM180-180h160v-160H180v160Zm440 0h160v-160H620v160Z\"/>\n",
              "  </svg>\n",
              "    </button>\n",
              "\n",
              "  <style>\n",
              "    .colab-df-container {\n",
              "      display:flex;\n",
              "      gap: 12px;\n",
              "    }\n",
              "\n",
              "    .colab-df-convert {\n",
              "      background-color: #E8F0FE;\n",
              "      border: none;\n",
              "      border-radius: 50%;\n",
              "      cursor: pointer;\n",
              "      display: none;\n",
              "      fill: #1967D2;\n",
              "      height: 32px;\n",
              "      padding: 0 0 0 0;\n",
              "      width: 32px;\n",
              "    }\n",
              "\n",
              "    .colab-df-convert:hover {\n",
              "      background-color: #E2EBFA;\n",
              "      box-shadow: 0px 1px 2px rgba(60, 64, 67, 0.3), 0px 1px 3px 1px rgba(60, 64, 67, 0.15);\n",
              "      fill: #174EA6;\n",
              "    }\n",
              "\n",
              "    .colab-df-buttons div {\n",
              "      margin-bottom: 4px;\n",
              "    }\n",
              "\n",
              "    [theme=dark] .colab-df-convert {\n",
              "      background-color: #3B4455;\n",
              "      fill: #D2E3FC;\n",
              "    }\n",
              "\n",
              "    [theme=dark] .colab-df-convert:hover {\n",
              "      background-color: #434B5C;\n",
              "      box-shadow: 0px 1px 3px 1px rgba(0, 0, 0, 0.15);\n",
              "      filter: drop-shadow(0px 1px 2px rgba(0, 0, 0, 0.3));\n",
              "      fill: #FFFFFF;\n",
              "    }\n",
              "  </style>\n",
              "\n",
              "    <script>\n",
              "      const buttonEl =\n",
              "        document.querySelector('#df-515768b3-72f6-4dbe-9030-77e66cec0ed5 button.colab-df-convert');\n",
              "      buttonEl.style.display =\n",
              "        google.colab.kernel.accessAllowed ? 'block' : 'none';\n",
              "\n",
              "      async function convertToInteractive(key) {\n",
              "        const element = document.querySelector('#df-515768b3-72f6-4dbe-9030-77e66cec0ed5');\n",
              "        const dataTable =\n",
              "          await google.colab.kernel.invokeFunction('convertToInteractive',\n",
              "                                                    [key], {});\n",
              "        if (!dataTable) return;\n",
              "\n",
              "        const docLinkHtml = 'Like what you see? Visit the ' +\n",
              "          '<a target=\"_blank\" href=https://colab.research.google.com/notebooks/data_table.ipynb>data table notebook</a>'\n",
              "          + ' to learn more about interactive tables.';\n",
              "        element.innerHTML = '';\n",
              "        dataTable['output_type'] = 'display_data';\n",
              "        await google.colab.output.renderOutput(dataTable, element);\n",
              "        const docLink = document.createElement('div');\n",
              "        docLink.innerHTML = docLinkHtml;\n",
              "        element.appendChild(docLink);\n",
              "      }\n",
              "    </script>\n",
              "  </div>\n",
              "\n",
              "\n",
              "<div id=\"df-b298c47f-8f76-4ccc-9871-742098d41873\">\n",
              "  <button class=\"colab-df-quickchart\" onclick=\"quickchart('df-b298c47f-8f76-4ccc-9871-742098d41873')\"\n",
              "            title=\"Suggest charts\"\n",
              "            style=\"display:none;\">\n",
              "\n",
              "<svg xmlns=\"http://www.w3.org/2000/svg\" height=\"24px\"viewBox=\"0 0 24 24\"\n",
              "     width=\"24px\">\n",
              "    <g>\n",
              "        <path d=\"M19 3H5c-1.1 0-2 .9-2 2v14c0 1.1.9 2 2 2h14c1.1 0 2-.9 2-2V5c0-1.1-.9-2-2-2zM9 17H7v-7h2v7zm4 0h-2V7h2v10zm4 0h-2v-4h2v4z\"/>\n",
              "    </g>\n",
              "</svg>\n",
              "  </button>\n",
              "\n",
              "<style>\n",
              "  .colab-df-quickchart {\n",
              "      --bg-color: #E8F0FE;\n",
              "      --fill-color: #1967D2;\n",
              "      --hover-bg-color: #E2EBFA;\n",
              "      --hover-fill-color: #174EA6;\n",
              "      --disabled-fill-color: #AAA;\n",
              "      --disabled-bg-color: #DDD;\n",
              "  }\n",
              "\n",
              "  [theme=dark] .colab-df-quickchart {\n",
              "      --bg-color: #3B4455;\n",
              "      --fill-color: #D2E3FC;\n",
              "      --hover-bg-color: #434B5C;\n",
              "      --hover-fill-color: #FFFFFF;\n",
              "      --disabled-bg-color: #3B4455;\n",
              "      --disabled-fill-color: #666;\n",
              "  }\n",
              "\n",
              "  .colab-df-quickchart {\n",
              "    background-color: var(--bg-color);\n",
              "    border: none;\n",
              "    border-radius: 50%;\n",
              "    cursor: pointer;\n",
              "    display: none;\n",
              "    fill: var(--fill-color);\n",
              "    height: 32px;\n",
              "    padding: 0;\n",
              "    width: 32px;\n",
              "  }\n",
              "\n",
              "  .colab-df-quickchart:hover {\n",
              "    background-color: var(--hover-bg-color);\n",
              "    box-shadow: 0 1px 2px rgba(60, 64, 67, 0.3), 0 1px 3px 1px rgba(60, 64, 67, 0.15);\n",
              "    fill: var(--button-hover-fill-color);\n",
              "  }\n",
              "\n",
              "  .colab-df-quickchart-complete:disabled,\n",
              "  .colab-df-quickchart-complete:disabled:hover {\n",
              "    background-color: var(--disabled-bg-color);\n",
              "    fill: var(--disabled-fill-color);\n",
              "    box-shadow: none;\n",
              "  }\n",
              "\n",
              "  .colab-df-spinner {\n",
              "    border: 2px solid var(--fill-color);\n",
              "    border-color: transparent;\n",
              "    border-bottom-color: var(--fill-color);\n",
              "    animation:\n",
              "      spin 1s steps(1) infinite;\n",
              "  }\n",
              "\n",
              "  @keyframes spin {\n",
              "    0% {\n",
              "      border-color: transparent;\n",
              "      border-bottom-color: var(--fill-color);\n",
              "      border-left-color: var(--fill-color);\n",
              "    }\n",
              "    20% {\n",
              "      border-color: transparent;\n",
              "      border-left-color: var(--fill-color);\n",
              "      border-top-color: var(--fill-color);\n",
              "    }\n",
              "    30% {\n",
              "      border-color: transparent;\n",
              "      border-left-color: var(--fill-color);\n",
              "      border-top-color: var(--fill-color);\n",
              "      border-right-color: var(--fill-color);\n",
              "    }\n",
              "    40% {\n",
              "      border-color: transparent;\n",
              "      border-right-color: var(--fill-color);\n",
              "      border-top-color: var(--fill-color);\n",
              "    }\n",
              "    60% {\n",
              "      border-color: transparent;\n",
              "      border-right-color: var(--fill-color);\n",
              "    }\n",
              "    80% {\n",
              "      border-color: transparent;\n",
              "      border-right-color: var(--fill-color);\n",
              "      border-bottom-color: var(--fill-color);\n",
              "    }\n",
              "    90% {\n",
              "      border-color: transparent;\n",
              "      border-bottom-color: var(--fill-color);\n",
              "    }\n",
              "  }\n",
              "</style>\n",
              "\n",
              "  <script>\n",
              "    async function quickchart(key) {\n",
              "      const quickchartButtonEl =\n",
              "        document.querySelector('#' + key + ' button');\n",
              "      quickchartButtonEl.disabled = true;  // To prevent multiple clicks.\n",
              "      quickchartButtonEl.classList.add('colab-df-spinner');\n",
              "      try {\n",
              "        const charts = await google.colab.kernel.invokeFunction(\n",
              "            'suggestCharts', [key], {});\n",
              "      } catch (error) {\n",
              "        console.error('Error during call to suggestCharts:', error);\n",
              "      }\n",
              "      quickchartButtonEl.classList.remove('colab-df-spinner');\n",
              "      quickchartButtonEl.classList.add('colab-df-quickchart-complete');\n",
              "    }\n",
              "    (() => {\n",
              "      let quickchartButtonEl =\n",
              "        document.querySelector('#df-b298c47f-8f76-4ccc-9871-742098d41873 button');\n",
              "      quickchartButtonEl.style.display =\n",
              "        google.colab.kernel.accessAllowed ? 'block' : 'none';\n",
              "    })();\n",
              "  </script>\n",
              "</div>\n",
              "\n",
              "    </div>\n",
              "  </div>\n"
            ],
            "application/vnd.google.colaboratory.intrinsic+json": {
              "type": "dataframe",
              "variable_name": "df",
              "summary": "{\n  \"name\": \"df\",\n  \"rows\": 463,\n  \"fields\": [\n    {\n      \"column\": \"Codigo\",\n      \"properties\": {\n        \"dtype\": \"number\",\n        \"std\": 1992,\n        \"min\": 2575,\n        \"max\": 19344,\n        \"num_unique_values\": 456,\n        \"samples\": [\n          18562,\n          18983,\n          18267\n        ],\n        \"semantic_type\": \"\",\n        \"description\": \"\"\n      }\n    },\n    {\n      \"column\": \"Ciudad\",\n      \"properties\": {\n        \"dtype\": \"category\",\n        \"num_unique_values\": 43,\n        \"samples\": [\n          \"EL ROSAL\",\n          \"BUENAVISTA\",\n          \"SONSON\"\n        ],\n        \"semantic_type\": \"\",\n        \"description\": \"\"\n      }\n    },\n    {\n      \"column\": \"Departamento\",\n      \"properties\": {\n        \"dtype\": \"category\",\n        \"num_unique_values\": 14,\n        \"samples\": [\n          \"CALDAS\",\n          \"PUTUMAYO\",\n          \"CUNDINAMARCA\"\n        ],\n        \"semantic_type\": \"\",\n        \"description\": \"\"\n      }\n    },\n    {\n      \"column\": \"Barrio\",\n      \"properties\": {\n        \"dtype\": \"category\",\n        \"num_unique_values\": 17,\n        \"samples\": [\n          \"CENTRO\",\n          \"VEREDA CHAMBIMBAL\",\n          \"AV 30 DE AGOSTO\"\n        ],\n        \"semantic_type\": \"\",\n        \"description\": \"\"\n      }\n    },\n    {\n      \"column\": \"Direccion\",\n      \"properties\": {\n        \"dtype\": \"string\",\n        \"num_unique_values\": 456,\n        \"samples\": [\n          \"URBANIZACION FERNANDO GAVIRIA LOTE 6 MZ 6\",\n          \"CRA. 5 No. 15 - 40\",\n          \"CENTRAL MINORISTA DE ABASTOS DE VILLAVICENCIO - CEMERCA Local A3506\"\n        ],\n        \"semantic_type\": \"\",\n        \"description\": \"\"\n      }\n    },\n    {\n      \"column\": \"Area Terreno\",\n      \"properties\": {\n        \"dtype\": \"number\",\n        \"std\": 182710.1036902397,\n        \"min\": 0.0,\n        \"max\": 3217197.0,\n        \"num_unique_values\": 19,\n        \"samples\": [\n          0.0,\n          710.64,\n          131627.0\n        ],\n        \"semantic_type\": \"\",\n        \"description\": \"\"\n      }\n    },\n    {\n      \"column\": \"Area Construida\",\n      \"properties\": {\n        \"dtype\": \"number\",\n        \"std\": 1137.4690773160282,\n        \"min\": 0.0,\n        \"max\": 22724.0,\n        \"num_unique_values\": 11,\n        \"samples\": [\n          750.64,\n          0.0,\n          700.0\n        ],\n        \"semantic_type\": \"\",\n        \"description\": \"\"\n      }\n    },\n    {\n      \"column\": \"Detalle Disponibilidad\",\n      \"properties\": {\n        \"dtype\": \"category\",\n        \"num_unique_values\": 6,\n        \"samples\": [\n          \"COMERCIALIZABLE CON RESTRICCION\",\n          \"COMERCIALIZABLE\",\n          \"EN PUJA\"\n        ],\n        \"semantic_type\": \"\",\n        \"description\": \"\"\n      }\n    },\n    {\n      \"column\": \"Estrato\",\n      \"properties\": {\n        \"dtype\": \"category\",\n        \"num_unique_values\": 9,\n        \"samples\": [\n          \"DOS\",\n          \"COMERCIAL\",\n          \"SEIS\"\n        ],\n        \"semantic_type\": \"\",\n        \"description\": \"\"\n      }\n    },\n    {\n      \"column\": \"Precio\",\n      \"properties\": {\n        \"dtype\": \"number\",\n        \"std\": 3272992027.691997,\n        \"min\": 4650000.0,\n        \"max\": 45233789820.0,\n        \"num_unique_values\": 223,\n        \"samples\": [\n          2041211340.0,\n          1042886694.0,\n          28427892.82\n        ],\n        \"semantic_type\": \"\",\n        \"description\": \"\"\n      }\n    },\n    {\n      \"column\": \"Tipo de Inmueble\",\n      \"properties\": {\n        \"dtype\": \"category\",\n        \"num_unique_values\": 19,\n        \"samples\": [\n          \"LOTE COMERCIAL\",\n          \"HOTEL\",\n          \"CASA\"\n        ],\n        \"semantic_type\": \"\",\n        \"description\": \"\"\n      }\n    },\n    {\n      \"column\": \"Datos Adicionales\",\n      \"properties\": {\n        \"dtype\": \"category\",\n        \"num_unique_values\": 60,\n        \"samples\": [\n          \"ESTE INMUEBLE SE COMERCIALIZAR\\u00c1 A TRAVES DE SUBASTA ESPECIAL\",\n          \"ESTE INMUEBLE ES PROPIEDAD DE EMCALI\",\n          \"LOTE CON CONSTRUCCION LA CABA\\u00d1A UBICADO EN EL CORREGIMIENTO DE VILLANUEVA, DEL MUNICIPIO DE VALENCIA, DEPARTAMENTO DE C\\u00d3RDOBA,USO PRINCIPAL:\\nGENERACI\\u00d3N DE PRODUCTOS AGR\\u00cdCOLAS CON FORESTALES MADERABLES Y NO MADERABLES, BAJO EL CONCEPTO DE MANEJO SOSTE\"\n        ],\n        \"semantic_type\": \"\",\n        \"description\": \"\"\n      }\n    }\n  ]\n}"
            }
          },
          "metadata": {},
          "execution_count": 8
        }
      ]
    },
    {
      "cell_type": "markdown",
      "source": [
        "2. ***Plante una pregunta objetivo***\n",
        "\"¿Cuáles son los factores principales que influyen en los precios de los inmuebles?\""
      ],
      "metadata": {
        "id": "UeP66FwPzEgy"
      }
    },
    {
      "cell_type": "markdown",
      "source": [
        "**3. Total de registros y 4. Total de columnas**\n"
      ],
      "metadata": {
        "id": "9S6IuemZzxTf"
      }
    },
    {
      "cell_type": "code",
      "source": [
        "print(f\"Total de registros: {df.shape[0]}\")\n",
        "print(f\"Total de columnas: {df.shape[1]}\")"
      ],
      "metadata": {
        "colab": {
          "base_uri": "https://localhost:8080/"
        },
        "id": "aZ2TxPjQz617",
        "outputId": "047472f8-a7d2-4d8e-ffab-28caacbea501"
      },
      "execution_count": 9,
      "outputs": [
        {
          "output_type": "stream",
          "name": "stdout",
          "text": [
            "Total de registros: 463\n",
            "Total de columnas: 12\n"
          ]
        }
      ]
    },
    {
      "cell_type": "markdown",
      "source": [
        "**5. Detallado de cada columna**"
      ],
      "metadata": {
        "id": "lCibSSAq0EW6"
      }
    },
    {
      "cell_type": "code",
      "source": [
        "print('Detalle de columnas')\n",
        "df.info()"
      ],
      "metadata": {
        "colab": {
          "base_uri": "https://localhost:8080/"
        },
        "id": "GIYa1SmX0Rho",
        "outputId": "494c7972-2cda-4448-c324-89418b74855d"
      },
      "execution_count": 10,
      "outputs": [
        {
          "output_type": "stream",
          "name": "stdout",
          "text": [
            "Detalle de columnas\n",
            "<class 'pandas.core.frame.DataFrame'>\n",
            "RangeIndex: 463 entries, 0 to 462\n",
            "Data columns (total 12 columns):\n",
            " #   Column                  Non-Null Count  Dtype  \n",
            "---  ------                  --------------  -----  \n",
            " 0   Codigo                  463 non-null    int64  \n",
            " 1   Ciudad                  463 non-null    object \n",
            " 2   Departamento            463 non-null    object \n",
            " 3   Barrio                  40 non-null     object \n",
            " 4   Direccion               463 non-null    object \n",
            " 5   Area Terreno            463 non-null    float64\n",
            " 6   Area Construida         463 non-null    float64\n",
            " 7   Detalle Disponibilidad  463 non-null    object \n",
            " 8   Estrato                 463 non-null    object \n",
            " 9   Precio                  463 non-null    float64\n",
            " 10  Tipo de Inmueble        463 non-null    object \n",
            " 11  Datos Adicionales       118 non-null    object \n",
            "dtypes: float64(3), int64(1), object(8)\n",
            "memory usage: 43.5+ KB\n"
          ]
        }
      ]
    },
    {
      "cell_type": "markdown",
      "source": [
        "**6. Identificar columnas categóricas y numéricas**"
      ],
      "metadata": {
        "id": "_ZyVb2Ej0iIA"
      }
    },
    {
      "cell_type": "code",
      "source": [
        "categoricas = df.select_dtypes(include='object').columns.tolist()\n",
        "numericas = df.select_dtypes(include=['int64', 'float64']).columns.tolist()\n",
        "print(f\"\\nColumnas categóricas: {categoricas}\")\n",
        "print(f\"Columnas numéricas: {numericas}\")\n"
      ],
      "metadata": {
        "colab": {
          "base_uri": "https://localhost:8080/"
        },
        "id": "wRYyNn9A0oln",
        "outputId": "8e12f1fb-06a5-4b9d-89de-7652ee70282c"
      },
      "execution_count": 11,
      "outputs": [
        {
          "output_type": "stream",
          "name": "stdout",
          "text": [
            "\n",
            "Columnas categóricas: ['Ciudad', 'Departamento', 'Barrio', 'Direccion', 'Detalle Disponibilidad', 'Estrato', 'Tipo de Inmueble', 'Datos Adicionales']\n",
            "Columnas numéricas: ['Codigo', 'Area Terreno', 'Area Construida', 'Precio']\n"
          ]
        }
      ]
    },
    {
      "cell_type": "markdown",
      "source": [
        "**7. Identificar columnas con valores nulos**"
      ],
      "metadata": {
        "id": "q0TrDSYX01F1"
      }
    },
    {
      "cell_type": "code",
      "source": [
        "valores_nulos = df.isnull().sum()\n",
        "print(\"\\nValores nulos por columna:\")\n",
        "print(valores_nulos[valores_nulos > 0])"
      ],
      "metadata": {
        "colab": {
          "base_uri": "https://localhost:8080/"
        },
        "id": "-Xq8Te7-02vA",
        "outputId": "288e31c0-6aa1-4629-cb9f-7ff8abe7f1d3"
      },
      "execution_count": 12,
      "outputs": [
        {
          "output_type": "stream",
          "name": "stdout",
          "text": [
            "\n",
            "Valores nulos por columna:\n",
            "Barrio               423\n",
            "Datos Adicionales    345\n",
            "dtype: int64\n"
          ]
        }
      ]
    },
    {
      "cell_type": "markdown",
      "source": [
        "**8. Identificar registros duplicados**"
      ],
      "metadata": {
        "id": "MISSsRfq1Fqe"
      }
    },
    {
      "cell_type": "code",
      "source": [
        "duplicados = df.duplicated().sum()\n",
        "print(f\"\\nRegistros duplicados: {duplicados}\")"
      ],
      "metadata": {
        "colab": {
          "base_uri": "https://localhost:8080/"
        },
        "id": "9spRTJ8D1IL9",
        "outputId": "02928185-b71b-4c50-dc33-57e7533f2ff3"
      },
      "execution_count": 13,
      "outputs": [
        {
          "output_type": "stream",
          "name": "stdout",
          "text": [
            "\n",
            "Registros duplicados: 0\n"
          ]
        }
      ]
    },
    {
      "cell_type": "markdown",
      "source": [
        "**9. Reporte estadístico de los datos numéricos**"
      ],
      "metadata": {
        "id": "ICYaFyIn1VZ_"
      }
    },
    {
      "cell_type": "code",
      "source": [
        "print(\"\\nReporte estadístico:\")\n",
        "print(df.describe())"
      ],
      "metadata": {
        "colab": {
          "base_uri": "https://localhost:8080/"
        },
        "id": "WR1M_c7o1XiZ",
        "outputId": "10f97575-576f-4b09-8065-a702a419a677"
      },
      "execution_count": 15,
      "outputs": [
        {
          "output_type": "stream",
          "name": "stdout",
          "text": [
            "\n",
            "Reporte estadístico:\n",
            "             Codigo  Area Terreno  Area Construida        Precio\n",
            "count    463.000000  4.630000e+02       463.000000  4.630000e+02\n",
            "mean   18003.151188  1.515204e+04        87.517279  6.672032e+08\n",
            "std     1992.191499  1.827101e+05      1137.469077  3.272992e+09\n",
            "min     2575.000000  0.000000e+00         0.000000  4.650000e+06\n",
            "25%    18184.500000  0.000000e+00         0.000000  1.230500e+07\n",
            "50%    18332.000000  0.000000e+00         0.000000  1.587000e+07\n",
            "75%    18539.500000  0.000000e+00         0.000000  1.379955e+08\n",
            "max    19344.000000  3.217197e+06     22724.000000  4.523379e+10\n"
          ]
        }
      ]
    },
    {
      "cell_type": "markdown",
      "source": [
        "**10. Identificar columnas con valores erróneos**"
      ],
      "metadata": {
        "id": "xctM4q551grv"
      }
    },
    {
      "cell_type": "code",
      "source": [
        "valores_erroneos = {\n",
        "    \"Area Terreno Negativa\": df[df['Area Terreno'] < 0],\n",
        "    \"Area Construida Negativa\": df[df['Area Construida'] < 0],\n",
        "    \"Precio Negativo\": df[df['Precio'] < 0]\n",
        "}\n",
        "print(\"\\nValores erróneos detectados:\")\n",
        "for k, v in valores_erroneos.items():\n",
        "    print(f\"{k}: {v.shape[0]} registros\")\n"
      ],
      "metadata": {
        "colab": {
          "base_uri": "https://localhost:8080/"
        },
        "id": "UbK3utkq1kvJ",
        "outputId": "c094950c-8ff5-4e72-f0ad-bc3caabae2ee"
      },
      "execution_count": 16,
      "outputs": [
        {
          "output_type": "stream",
          "name": "stdout",
          "text": [
            "\n",
            "Valores erróneos detectados:\n",
            "Area Terreno Negativa: 0 registros\n",
            "Area Construida Negativa: 0 registros\n",
            "Precio Negativo: 0 registros\n"
          ]
        }
      ]
    },
    {
      "cell_type": "markdown",
      "source": [
        "**11. Gráficos para identificar valores atípicos**"
      ],
      "metadata": {
        "id": "6Tmk-MCt1v60"
      }
    },
    {
      "cell_type": "code",
      "source": [
        "import numpy as np\n",
        "import seaborn as sns\n",
        "import matplotlib.pyplot as plt\n",
        "\n",
        "plt.figure(figsize=(15, 10))\n",
        "sns.boxplot(data=df[numericas], palette='Set2')\n",
        "plt.title('Valores Atípicos en Datos Numéricos')\n",
        "plt.show()"
      ],
      "metadata": {
        "colab": {
          "base_uri": "https://localhost:8080/",
          "height": 853
        },
        "id": "DJSfS5vP1xxJ",
        "outputId": "d51eb736-0817-4078-c62b-457972be7e53"
      },
      "execution_count": 18,
      "outputs": [
        {
          "output_type": "display_data",
          "data": {
            "text/plain": [
              "<Figure size 1500x1000 with 1 Axes>"
            ],
            "image/png": "[encoded data removed]"
          },
          "metadata": {}
        }
      ]
    },
    {
      "cell_type": "markdown",
      "source": [
        "**12. Histogramas de frecuencia**"
      ],
      "metadata": {
        "id": "CeI-yeIa2FPP"
      }
    },
    {
      "cell_type": "code",
      "source": [
        "fig, axes = plt.subplots(1, len(numericas), figsize=(18, 5))\n",
        "for i, col in enumerate(numericas):\n",
        "    sns.histplot(df[col], kde=True, ax=axes[i], bins=20, color='blue')\n",
        "    axes[i].set_title(f\"Histograma de {col}\")\n",
        "plt.tight_layout()\n",
        "plt.show()"
      ],
      "metadata": {
        "colab": {
          "base_uri": "https://localhost:8080/",
          "height": 357
        },
        "id": "d3N7IgbX2O4o",
        "outputId": "37cb9032-e18c-463a-9be8-b3f9fc3d1729"
      },
      "execution_count": 19,
      "outputs": [
        {
          "output_type": "display_data",
          "data": {
            "text/plain": [
              "<Figure size 1800x500 with 4 Axes>"
            ],
            "image/png": "[encoded data removed]"
          },
          "metadata": {}
        }
      ]
    },
    {
      "cell_type": "markdown",
      "source": [
        "**13. Correlación entre variables**"
      ],
      "metadata": {
        "id": "xfLRkQ762Zb3"
      }
    },
    {
      "cell_type": "code",
      "source": [
        "correlacion = df.select_dtypes(include=np.number).corr()\n",
        "plt.figure(figsize=(10, 8))\n",
        "sns.heatmap(correlacion, annot=True, cmap='coolwarm', fmt=\".2f\")\n",
        "plt.title('Mapa de Correlaciones')\n",
        "plt.show()"
      ],
      "metadata": {
        "colab": {
          "base_uri": "https://localhost:8080/",
          "height": 699
        },
        "id": "SuaPrgqI2p8o",
        "outputId": "5a0605ef-4cad-4d80-a081-99a62bc68680"
      },
      "execution_count": 27,
      "outputs": [
        {
          "output_type": "display_data",
          "data": {
            "text/plain": [
              "<Figure size 1000x800 with 2 Axes>"
            ],
            "image/png": "[encoded data removed]"
          },
          "metadata": {}
        }
      ]
    },
    {
      "cell_type": "markdown",
      "source": [
        "**14. Eliminación de valores nulos y duplicados**"
      ],
      "metadata": {
        "id": "dmCG75i54CdH"
      }
    },
    {
      "cell_type": "code",
      "source": [
        "print(\"\\nEliminando valores nulos y duplicados...\")\n",
        "df = df.dropna()\n",
        "df = df.drop_duplicates()\n",
        "print(\"Datos limpios:\")\n",
        "print(df.info())\n"
      ],
      "metadata": {
        "colab": {
          "base_uri": "https://localhost:8080/"
        },
        "id": "iuQAqeyR4G54",
        "outputId": "c93ea5cf-b46a-4fee-afd6-d52a7491a347"
      },
      "execution_count": 28,
      "outputs": [
        {
          "output_type": "stream",
          "name": "stdout",
          "text": [
            "\n",
            "Eliminando valores nulos y duplicados...\n",
            "Datos limpios:\n",
            "<class 'pandas.core.frame.DataFrame'>\n",
            "Index: 23 entries, 3 to 462\n",
            "Data columns (total 12 columns):\n",
            " #   Column                  Non-Null Count  Dtype  \n",
            "---  ------                  --------------  -----  \n",
            " 0   Codigo                  23 non-null     int64  \n",
            " 1   Ciudad                  23 non-null     object \n",
            " 2   Departamento            23 non-null     object \n",
            " 3   Barrio                  23 non-null     object \n",
            " 4   Direccion               23 non-null     object \n",
            " 5   Area Terreno            23 non-null     float64\n",
            " 6   Area Construida         23 non-null     float64\n",
            " 7   Detalle Disponibilidad  23 non-null     object \n",
            " 8   Estrato                 23 non-null     object \n",
            " 9   Precio                  23 non-null     float64\n",
            " 10  Tipo de Inmueble        23 non-null     object \n",
            " 11  Datos Adicionales       23 non-null     object \n",
            "dtypes: float64(3), int64(1), object(8)\n",
            "memory usage: 2.3+ KB\n",
            "None\n"
          ]
        }
      ]
    },
    {
      "cell_type": "markdown",
      "source": [
        "**15. Agrupación de columnas**"
      ],
      "metadata": {
        "id": "avKFfDoG4R7m"
      }
    },
    {
      "cell_type": "code",
      "source": [
        "print(\"\\nAgrupación de datos:\")\n",
        "grupo = df.groupby('Ciudad')['Precio'].mean()\n",
        "print(grupo)"
      ],
      "metadata": {
        "colab": {
          "base_uri": "https://localhost:8080/"
        },
        "id": "jGOojNfc4bZD",
        "outputId": "b7980ea8-ad11-4f7c-aad6-cb0619f7834b"
      },
      "execution_count": 29,
      "outputs": [
        {
          "output_type": "stream",
          "name": "stdout",
          "text": [
            "\n",
            "Agrupación de datos:\n",
            "Ciudad\n",
            "BARRANQUILLA              7.303790e+08\n",
            "CALI                      2.981190e+08\n",
            "CALIMA EL DARIEN          2.190472e+09\n",
            "CARTAGENA                 1.283625e+08\n",
            "MANIZALES                 8.375908e+08\n",
            "SANTANDER DE QUILICHAO    7.157807e+08\n",
            "SOGAMOSO                  1.376828e+10\n",
            "Name: Precio, dtype: float64\n"
          ]
        }
      ]
    },
    {
      "cell_type": "markdown",
      "source": [
        "**16. Creación de nuevas columnas**"
      ],
      "metadata": {
        "id": "McKyLDAS4jt2"
      }
    },
    {
      "cell_type": "code",
      "source": [
        "df['Precio_m2'] = df['Precio'] / df['Area Construida']\n",
        "print(\"\\nNueva columna 'Precio_m2' creada.\")"
      ],
      "metadata": {
        "colab": {
          "base_uri": "https://localhost:8080/"
        },
        "id": "3ufm7tJw4mdy",
        "outputId": "e7952a76-b8cf-4e82-accb-7a844e87f199"
      },
      "execution_count": 30,
      "outputs": [
        {
          "output_type": "stream",
          "name": "stdout",
          "text": [
            "\n",
            "Nueva columna 'Precio_m2' creada.\n"
          ]
        }
      ]
    },
    {
      "cell_type": "markdown",
      "source": [
        "**17. Identificar columnas irrelevantes**"
      ],
      "metadata": {
        "id": "qJO78R9E4u3D"
      }
    },
    {
      "cell_type": "code",
      "source": [
        "irrelevantes = ['Datos Adicionales', 'Direccion']  # Ejemplo\n",
        "df = df.drop(columns=irrelevantes)\n",
        "print(f\"\\nColumnas eliminadas: {irrelevantes}\")"
      ],
      "metadata": {
        "colab": {
          "base_uri": "https://localhost:8080/"
        },
        "id": "JoAupXGW4xvV",
        "outputId": "8d2072a1-b1b1-4d8d-f8a3-a8d1fecbeefa"
      },
      "execution_count": 31,
      "outputs": [
        {
          "output_type": "stream",
          "name": "stdout",
          "text": [
            "\n",
            "Columnas eliminadas: ['Datos Adicionales', 'Direccion']\n"
          ]
        }
      ]
    },
    {
      "cell_type": "markdown",
      "source": [
        "**18. Conclusiones**"
      ],
      "metadata": {
        "id": "I9xxV1aH4-N5"
      }
    },
    {
      "cell_type": "code",
      "source": [
        "print(\"\\nConclusiones:\")\n",
        "print(f\"La variable 'Precio' está altamente influenciada por el 'Area Construida' y el 'Estrato'.\")\n"
      ],
      "metadata": {
        "colab": {
          "base_uri": "https://localhost:8080/"
        },
        "id": "SXinq0xk5T8L",
        "outputId": "d2ccdf8a-bb63-4b04-c425-388497f6e5df"
      },
      "execution_count": 32,
      "outputs": [
        {
          "output_type": "stream",
          "name": "stdout",
          "text": [
            "\n",
            "Conclusiones:\n",
            "La variable 'Precio' está altamente influenciada por el 'Area Construida' y el 'Estrato'.\n"
          ]
        }
      ]
    }
  ]
}